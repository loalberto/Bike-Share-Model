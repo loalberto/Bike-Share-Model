{
 "cells": [
  {
   "cell_type": "markdown",
   "metadata": {},
   "source": [
    "How much money would it cost Queens College to have bikes available for students over a span of one year?"
   ]
  },
  {
   "cell_type": "code",
   "execution_count": 2,
   "metadata": {},
   "outputs": [],
   "source": [
    "%matplotlib inline\n",
    "%config InteractiveShell.ast_node_interactivity='last_expr_or_assign'\n",
    "from modsim import *\n",
    "from pint import *\n",
    "import random\n",
    "np.random.seed(7)"
   ]
  },
  {
   "cell_type": "markdown",
   "metadata": {},
   "source": [
    "The purpose of this model is to show how much money Queens College will be spending to maintain and run a bikeshare over a year. Queens College will start off with an inital amount of 250 dollars, where the amount was added up from the cost of each bike and the cost to use a location. There will be 4 locations where each location will contain 3 bikes. The cost of each bike will be 10 dollars and each location will cost 20 dollars. When there is a demand for a bike at a location that no longer has anymore bikes for rent then the program will add 2 more bikes this location and increase Queens College's cost along with increasing its cost, by 50 dollars, due to more spacing needed. In addition, after 10 days Queens College needs to do maintnance of the bikes and it will cost them $30. We are assuming the school uses solar pannels to power the scooters, so the cost to keep them running won't cost anything but the cost for solar pannels is added to the initial amount. Everyday it will cost them 2 dollars per bike for electricity. I will be simulating this by running the simulation for 365 days and allowing 10 rentals to occur each day."
   ]
  },
  {
   "cell_type": "code",
   "execution_count": 3,
   "metadata": {},
   "outputs": [
    {
     "data": {
      "image/png": "[encoded data removed]",
      "text/plain": [
       "<Figure size 432x288 with 1 Axes>"
      ]
     },
     "metadata": {
      "needs_background": "light"
     },
     "output_type": "display_data"
    }
   ],
   "source": [
    "def choose_location(li):\n",
    "    # We will determine which location by splitting the array in half.\n",
    "    # If it is heads then go to the first half. Else go to the right\n",
    "    # If it is heads then we return the left of the two\n",
    "    if flip():\n",
    "        temp = li[0:2]\n",
    "        if flip():\n",
    "            return temp[0]\n",
    "        return temp[1]\n",
    "    else:\n",
    "        temp = li[2:4]\n",
    "        if flip():\n",
    "            return temp[0]\n",
    "        return temp[1]\n",
    "\n",
    "    \n",
    "def simulate():\n",
    "    # Time Series object to keep track of the growth of money\n",
    "    money_results = TimeSeries()\n",
    "    current_money = 250\n",
    "    total_bikes = 12\n",
    "    # We created four different locations for Queens College\n",
    "    location_a = State(loc_id = 1, num_bikes = 3)\n",
    "    location_b = State(loc_id = 2, num_bikes = 3)\n",
    "    location_c = State(loc_id = 3, num_bikes = 3)\n",
    "    location_d = State(loc_id = 4, num_bikes = 3)\n",
    "    \n",
    "    # List of customers\n",
    "    list_of_customers = []\n",
    "    list_of_locations = [location_a, location_b, location_c, location_d]\n",
    "    # We created ten different customers\n",
    "    for i in range(10):\n",
    "        list_of_customers.append(State(cus_id = i + 1))\n",
    "    \n",
    "    # We are creating 365 iterations, where each iteration will represent a day.\n",
    "    # Where the number of times the money increases is recorded for every ten days\n",
    "    # and when there is a request for more money\n",
    "    # 'i' will represent the iterator\n",
    "    i = 0\n",
    "    while i < 365:\n",
    "        # We are at a tenth day so we add $30\n",
    "        if i % 10 == 0:\n",
    "            current_money += 30\n",
    "        j = 0\n",
    "        # Running the simulation 10 times per day\n",
    "        while j < 10:\n",
    "            # We will pick two locations by returning a object from each call\n",
    "            local_1 = choose_location(list_of_locations)\n",
    "            local_2 = choose_location(list_of_locations)\n",
    "            # If the locations are the same then we keep rerunning it until we get different locations\n",
    "            while local_1 is local_2:\n",
    "                local_2 = choose_location(list_of_locations)\n",
    "\n",
    "            # If there are no more bikes at the location then we add 2 more \n",
    "            # and increase the cost for Queens College\n",
    "            if local_1.num_bikes == 0:\n",
    "                total_bikes += 2\n",
    "                local_1.num_bikes = 2\n",
    "                current_money += 2 * 10\n",
    "                # Increases the cost due to spacing needed for the new bikes\n",
    "                current_money += 50\n",
    "\n",
    "            # Location one will be the one that gets a bike removed\n",
    "            # and location two will be the one that gets one added to it\n",
    "            local_1.num_bikes -= 1\n",
    "            local_2.num_bikes += 1\n",
    "            j += 1\n",
    "            \n",
    "        money_results[i] = current_money\n",
    "        i += 1\n",
    "    \n",
    "    plot(money_results, '-', label='money')\n",
    "    decorate(xlabel='Days', ylabel='Money', title='How much will it cost?')\n",
    "    \n",
    "\n",
    "simulate()\n",
    "    "
   ]
  },
  {
   "cell_type": "markdown",
   "metadata": {},
   "source": [
    "The graph is displayed as results of the days and the money that gets spent. Starting with an initial cost of 250 dollars, we see an increase by adding more money due to the fact that the school is in need of more bikes. The figure demonstrates how it gradually increases each day. We see time periods where there are no sudden jumps due to the fact that there are no locations that have zero bikes. The model demonstrates how over time the cost continues to increase slower because each location increases the number of bikes that it has. So we see less locations having zero bikes. "
   ]
  }
 ],
 "metadata": {
  "kernelspec": {
   "display_name": "Python 3",
   "language": "python",
   "name": "python3"
  },
  "language_info": {
   "codemirror_mode": {
    "name": "ipython",
    "version": 3
   },
   "file_extension": ".py",
   "mimetype": "text/x-python",
   "name": "python",
   "nbconvert_exporter": "python",
   "pygments_lexer": "ipython3",
   "version": "3.7.3"
  }
 },
 "nbformat": 4,
 "nbformat_minor": 2
}
